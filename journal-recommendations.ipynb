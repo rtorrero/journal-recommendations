{
 "cells": [
  {
   "cell_type": "markdown",
   "metadata": {},
   "source": [
    "## Cargamos las bibliotecas que vamos a usar"
   ]
  },
  {
   "cell_type": "code",
   "execution_count": 3,
   "metadata": {},
   "outputs": [],
   "source": [
    "from nltk.tokenize import word_tokenize\n",
    "from nltk.stem import WordNetLemmatizer"
   ]
  },
  {
   "cell_type": "markdown",
   "metadata": {},
   "source": [
    "## Procesamos las referencias bibliográfica que vamos a usar\n",
    "Los datos que vamos a usar vienen en formato BibTeX, que es un formato de texto plano con extensión .bib. La biblioteca `bibtexparser` cargada anteriormente nos permite leer y escribir este formato.\n",
    "\n",
    "La función definida a continuación espera la ubicación de un fichero .bib y devuelve una lista de diccionarios con los datos de las referencias extraídas de ese fichero."
   ]
  },
  {
   "cell_type": "code",
   "execution_count": 4,
   "metadata": {},
   "outputs": [],
   "source": [
    "import os\n",
    "import bibtexparser\n",
    "\n",
    "def parse_bibtex(file_path):\n",
    "    \"\"\"Procesamos un fichero .bib y devolvemos una lista de registros.\"\"\"\n",
    "    with open(file_path, 'r') as bibtex_file:\n",
    "        bib_database = bibtexparser.load(bibtex_file)\n",
    "    records = []\n",
    "    for entry in bib_database.entries:\n",
    "        records.append({\n",
    "            'title': entry.get('title', ''),\n",
    "            'abstract': entry.get('abstract', ''),\n",
    "            'keywords': entry.get('keywords', '').split(', '),\n",
    "            'journal': entry.get('journal', '')\n",
    "        })\n",
    "    return records"
   ]
  },
  {
   "cell_type": "markdown",
   "metadata": {},
   "source": [
    "## Cargamos los datos de entrenamiento\n",
    "\n",
    "Usando la función definida anteriormente, cargamos todos los datos del directorio de entrenamiento y los vamos procesando uno a uno. Al finalizar, obtenemos un dataframe que usaremos para entrenar el modelo."
   ]
  },
  {
   "cell_type": "code",
   "execution_count": 5,
   "metadata": {},
   "outputs": [
    {
     "name": "stdout",
     "output_type": "stream",
     "text": [
      "                                               title  \\\n",
      "0  Sociotechnical systems as a framework for regu...   \n",
      "1  Emotional factors and physical properties of b...   \n",
      "2  “They say we have a choice, but we don't”: A g...   \n",
      "3  Measuring and improving adaptive capacity in r...   \n",
      "4  Comfortable leg splay of mid-sized males in au...   \n",
      "\n",
      "                                            abstract  \\\n",
      "0  Like most work systems, the domain of adventur...   \n",
      "1  Many studies of ballpoint pens have been condu...   \n",
      "2  For parents working in the transportation indu...   \n",
      "3  Resilient systems strive to enhance the safety...   \n",
      "4  Many factors affect the comfort of automotive ...   \n",
      "\n",
      "                                            keywords             journal  \n",
      "0  [Adventure activities, Adventure education, Co...  Applied Ergonomics  \n",
      "1  [Ballpoint pens, Styluses, Emotion, House of q...  Applied Ergonomics  \n",
      "2  [Atypical schedules, Ergonomic intervention, W...  Applied Ergonomics  \n",
      "3  [Resilience engineering (RE), Adaptive capacit...  Applied Ergonomics  \n",
      "4                     [Automotive, Comfort, Seating]  Applied Ergonomics  \n"
     ]
    }
   ],
   "source": [
    "import pandas as pd\n",
    "\n",
    "def load_data_from_directory(directory_path):\n",
    "    \"\"\"Cargamos todos los ficheros .bib de un directorio y sus subdirectorios.\"\"\"\n",
    "    all_records = []\n",
    "    for journal_folder in os.listdir(directory_path):\n",
    "        folder_path = os.path.join(directory_path, journal_folder)\n",
    "        if os.path.isdir(folder_path):\n",
    "            for file in os.listdir(folder_path):\n",
    "                if file.endswith('.bib'):\n",
    "                    file_path = os.path.join(folder_path, file)\n",
    "                    all_records.extend(parse_bibtex(file_path))\n",
    "    return pd.DataFrame(all_records)\n",
    "\n",
    "# Cargamos todos los ficheros usando la función definida anteriormente\n",
    "data_path = \"data/\"\n",
    "df = load_data_from_directory(data_path)\n",
    "\n",
    "# Guardamos los datos procesados en un nuevo archivo CSV (para evitar tener que volver a procesar los datos)\n",
    "df.to_csv(\"processed_data.csv\", index=False)\n",
    "\n",
    "# Mostramos los primeros registros para verificar que todo ha ido bien\n",
    "print(df.head())"
   ]
  },
  {
   "cell_type": "markdown",
   "metadata": {},
   "source": [
    "## Preprocesamiento de los datos\n",
    "Antes de entrenar el modelo de recomendación, es necesario preprocesar los datos. Esto incluye la limpieza de los datos, la eliminación de valores atípicos y la normalización de los datos.\n",
    "\n",
    "- Quitamos todo lo que no sea texto\n",
    "- Pasamos todo el texto a minúsculas\n",
    "- Quitamos los signos de puntuación\n",
    "- Quitamos los números #FIXME realmente hace falta?\n",
    "- Tokenizamos el texto (Lo separamos en palabras)\n",
    "- Para cada palabra, eliminamos las stopwords (palabras que no aportan información) y lematizamos (convertimos las palabras a su forma base)\n"
   ]
  },
  {
   "cell_type": "code",
   "execution_count": 6,
   "metadata": {},
   "outputs": [
    {
     "name": "stderr",
     "output_type": "stream",
     "text": [
      "[nltk_data] Downloading package wordnet to /home/rtorrero/nltk_data...\n",
      "[nltk_data]   Package wordnet is already up-to-date!\n",
      "[nltk_data] Downloading package stopwords to\n",
      "[nltk_data]     /home/rtorrero/nltk_data...\n",
      "[nltk_data]   Package stopwords is already up-to-date!\n",
      "[nltk_data] Downloading package punkt_tab to\n",
      "[nltk_data]     /home/rtorrero/nltk_data...\n",
      "[nltk_data]   Package punkt_tab is already up-to-date!\n"
     ]
    }
   ],
   "source": [
    "import re\n",
    "import nltk\n",
    "from nltk.corpus import stopwords\n",
    "\n",
    "nltk.download('wordnet')\n",
    "nltk.download('stopwords')\n",
    "nltk.download('punkt_tab')\n",
    "\n",
    "# Definimos stopwords para inglés y instanciamos el lematizador\n",
    "stop_words = set(stopwords.words('english'))\n",
    "lemmatizer = WordNetLemmatizer()\n",
    "\n",
    "def preprocess_text(text):\n",
    "    \"\"\"Normalizar y preprocesar el texto..\"\"\"\n",
    "    # Quitamos todo lo que no sean letras\n",
    "    if not isinstance(text, str):\n",
    "        return \"\"\n",
    "    \n",
    "    # Pasamos el texto a minúsculas\n",
    "    text = text.lower()\n",
    "    \n",
    "    # Quitamos puntos, comas y otros caracteres especiales\n",
    "    text = re.sub(r'[^\\w\\s]', '', text)\n",
    "    text = re.sub(r'\\d+', '', text)\n",
    "    \n",
    "    # Tokenizamos el texto\n",
    "    tokens = word_tokenize(text)\n",
    "    \n",
    "    # Quitamos las stopwords y aplicamos lematización\n",
    "    tokens = [lemmatizer.lemmatize(word) for word in tokens if word not in stop_words]\n",
    "    \n",
    "    # Volvemos a unir las palabras en una sola cadena\n",
    "    return ' '.join(tokens)"
   ]
  },
  {
   "cell_type": "markdown",
   "metadata": {},
   "source": [
    "#### Aplicamos las reglas de preprocesador del texto:"
   ]
  },
  {
   "cell_type": "code",
   "execution_count": 7,
   "metadata": {},
   "outputs": [
    {
     "name": "stdout",
     "output_type": "stream",
     "text": [
      "                                               title  \\\n",
      "0  Sociotechnical systems as a framework for regu...   \n",
      "1  Emotional factors and physical properties of b...   \n",
      "2  “They say we have a choice, but we don't”: A g...   \n",
      "3  Measuring and improving adaptive capacity in r...   \n",
      "4  Comfortable leg splay of mid-sized males in au...   \n",
      "\n",
      "                                       title_cleaned  \\\n",
      "0  sociotechnical system framework regulatory sys...   \n",
      "1  emotional factor physical property ballpoint p...   \n",
      "2  say choice dont gendered reflection workfamily...   \n",
      "3  measuring improving adaptive capacity resilien...   \n",
      "4  comfortable leg splay midsized male automotive...   \n",
      "\n",
      "                                            abstract  \\\n",
      "0  Like most work systems, the domain of adventur...   \n",
      "1  Many studies of ballpoint pens have been condu...   \n",
      "2  For parents working in the transportation indu...   \n",
      "3  Resilient systems strive to enhance the safety...   \n",
      "4  Many factors affect the comfort of automotive ...   \n",
      "\n",
      "                                    abstract_cleaned  \n",
      "0  like work system domain adventure activity see...  \n",
      "1  many study ballpoint pen conducted however stu...  \n",
      "2  parent working transportation industry atypica...  \n",
      "3  resilient system strive enhance safety complex...  \n",
      "4  many factor affect comfort automotive seat inc...  \n"
     ]
    }
   ],
   "source": [
    "# Esto permite cargar el dataframe desde el archivo CSV, en caso de querer evitar repetir el proceso de preprocesamiento\n",
    "if 'df' not in locals():\n",
    "    df = pd.read_csv(\"processed_data.csv\")\n",
    "\n",
    "# Aplicamos el preprocesamiento\n",
    "df['title_cleaned'] = df['title'].apply(preprocess_text)\n",
    "df['abstract_cleaned'] = df['abstract'].apply(preprocess_text)\n",
    "\n",
    "# Volvemos a guardar el DataFrame en un nuevo archivo CSV\n",
    "df.to_csv(\"cleaned_data.csv\", index=False)\n",
    "\n",
    "# Mostramos una previsualizzación de los datos procesados\n",
    "print(df[['title', 'title_cleaned', 'abstract', 'abstract_cleaned']].head())\n"
   ]
  },
  {
   "cell_type": "markdown",
   "metadata": {},
   "source": [
    "## Modelos para el clasificador\n",
    "A continuación, planteamos una serie de modelos para el clasificador de revistas. "
   ]
  },
  {
   "cell_type": "code",
   "execution_count": 17,
   "metadata": {},
   "outputs": [],
   "source": [
    "from sklearn.feature_extraction.text import TfidfVectorizer, CountVectorizer, HashingVectorizer\n",
    "from sklearn.ensemble import RandomForestClassifier, GradientBoostingClassifier\n",
    "from sklearn.naive_bayes import MultinomialNB\n",
    "from sklearn.metrics import accuracy_score, classification_report\n",
    "from sklearn.neighbors import KNeighborsClassifier\n",
    "from sklearn.model_selection import train_test_split, StratifiedKFold, cross_validate, GridSearchCV, RandomizedSearchCV\n",
    "from sklearn.linear_model import LogisticRegression, SGDClassifier\n",
    "\n",
    "# Configuraciones\n",
    "n_features_options = [250, 500, 1000]\n",
    "vectorizers = {\n",
    "    'TF-IDF': TfidfVectorizer,\n",
    "    'TF': CountVectorizer,\n",
    "}\n",
    "models = {\n",
    "    'Logistic Regression': LogisticRegression(max_iter=1000, random_state=26),\n",
    "    'Random Forest (200)': RandomForestClassifier(n_estimators=200, random_state=26),\n",
    "    'Naive Bayes Classifier': MultinomialNB(),\n",
    "    'Gradient Boosting': GradientBoostingClassifier(random_state=26),\n",
    "    'KNN': KNeighborsClassifier(n_neighbors=5),\n",
    "}\n",
    "skf = StratifiedKFold(n_splits=5, shuffle=True, random_state=26)\n"
   ]
  },
  {
   "cell_type": "code",
   "execution_count": 25,
   "metadata": {},
   "outputs": [],
   "source": [
    "import numpy as np\n",
    "from sklearn.metrics import accuracy_score, precision_score, recall_score, f1_score\n",
    "\n",
    "\n",
    "# Evaluación de modelos\n",
    "def evaluar_modelos(vectorizers, models, n_features_options, X_clean, y, skf):\n",
    "    resultados = []\n",
    "    for vec_name, vec_class in vectorizers.items():\n",
    "        for n_features in n_features_options:\n",
    "            vectorizer = vec_class(max_features=n_features)\n",
    "            X_vectorized = vectorizer.fit_transform(X_clean)\n",
    "\n",
    "            # Ahora, iteramos sobre los modelos\n",
    "            for model_name, model in models.items():\n",
    "                print(f\"Evaluando modelo: {model_name} con {vec_name} y {n_features} features\")\n",
    "                # fold_accuracies = []\n",
    "                # Perform k-fold cross validation\n",
    "                metrics = {\n",
    "                    'accuracy': [],\n",
    "                    'precision': [],\n",
    "                    'recall': [],\n",
    "                    'f1': []\n",
    "                }\n",
    "                for train_idx, test_idx in skf.split(X_vectorized, y):\n",
    "                    X_train, X_test = X_vectorized[train_idx], X_vectorized[test_idx]\n",
    "                    y_train, y_test = np.array(y)[train_idx], np.array(y)[test_idx]\n",
    "\n",
    "                    # Entrenamos el modelo\n",
    "                    model.fit(X_train, y_train)\n",
    "                    y_pred = model.predict(X_test)\n",
    "\n",
    "                    #fold_accuracies.append(accuracy_score(y_test, y_pred))\n",
    "                    # Calculate metrics\n",
    "                    metrics['accuracy'].append(accuracy_score(y_test, y_pred))\n",
    "                    metrics['precision'].append(precision_score(y_test, y_pred, average='weighted'))\n",
    "                    metrics['recall'].append(recall_score(y_test, y_pred, average='weighted'))\n",
    "                    metrics['f1'].append(f1_score(y_test, y_pred, average='weighted'))\n",
    "\n",
    "                resultados.append({\n",
    "                    'Vectorizador': vec_name,\n",
    "                    'Núm. Características': n_features,\n",
    "                    'Modelo': model_name,\n",
    "                    'Exactitud media': np.mean(metrics['accuracy']),\n",
    "                    'Precisión media': np.mean(metrics['precision']),\n",
    "                    'Recall medio': np.mean(metrics['recall']),\n",
    "                    'F1-score medio': np.mean(metrics['f1']),\n",
    "                    'Desviación estándar de la exactitud': np.std(metrics['accuracy']),\n",
    "                })\n",
    "                \n",
    "    return pd.DataFrame(resultados)"
   ]
  },
  {
   "cell_type": "code",
   "execution_count": 26,
   "metadata": {},
   "outputs": [
    {
     "name": "stdout",
     "output_type": "stream",
     "text": [
      "Evaluando modelo: Logistic Regression con TF-IDF y 250 features\n",
      "Evaluando modelo: Random Forest (200) con TF-IDF y 250 features\n",
      "Evaluando modelo: Naive Bayes Classifier con TF-IDF y 250 features\n",
      "Evaluando modelo: Gradient Boosting con TF-IDF y 250 features\n",
      "Evaluando modelo: KNN con TF-IDF y 250 features\n",
      "Evaluando modelo: Logistic Regression con TF-IDF y 500 features\n",
      "Evaluando modelo: Random Forest (200) con TF-IDF y 500 features\n",
      "Evaluando modelo: Naive Bayes Classifier con TF-IDF y 500 features\n",
      "Evaluando modelo: Gradient Boosting con TF-IDF y 500 features\n",
      "Evaluando modelo: KNN con TF-IDF y 500 features\n",
      "Evaluando modelo: Logistic Regression con TF-IDF y 1000 features\n",
      "Evaluando modelo: Random Forest (200) con TF-IDF y 1000 features\n",
      "Evaluando modelo: Naive Bayes Classifier con TF-IDF y 1000 features\n",
      "Evaluando modelo: Gradient Boosting con TF-IDF y 1000 features\n",
      "Evaluando modelo: KNN con TF-IDF y 1000 features\n",
      "Evaluando modelo: Logistic Regression con TF y 250 features\n",
      "Evaluando modelo: Random Forest (200) con TF y 250 features\n",
      "Evaluando modelo: Naive Bayes Classifier con TF y 250 features\n",
      "Evaluando modelo: Gradient Boosting con TF y 250 features\n",
      "Evaluando modelo: KNN con TF y 250 features\n",
      "Evaluando modelo: Logistic Regression con TF y 500 features\n",
      "Evaluando modelo: Random Forest (200) con TF y 500 features\n",
      "Evaluando modelo: Naive Bayes Classifier con TF y 500 features\n",
      "Evaluando modelo: Gradient Boosting con TF y 500 features\n",
      "Evaluando modelo: KNN con TF y 500 features\n",
      "Evaluando modelo: Logistic Regression con TF y 1000 features\n",
      "Evaluando modelo: Random Forest (200) con TF y 1000 features\n",
      "Evaluando modelo: Naive Bayes Classifier con TF y 1000 features\n",
      "Evaluando modelo: Gradient Boosting con TF y 1000 features\n",
      "Evaluando modelo: KNN con TF y 1000 features\n"
     ]
    }
   ],
   "source": [
    "# Evaluar modelos\n",
    "df['combined_text'] = df['title_cleaned'] + \" \" + df['abstract_cleaned']\n",
    "X_clean = df['combined_text']\n",
    "y = df['journal']\n",
    "\n",
    "results_df = evaluar_modelos(vectorizers, models, n_features_options, X_clean, y, skf)"
   ]
  },
  {
   "cell_type": "code",
   "execution_count": 32,
   "metadata": {},
   "outputs": [
    {
     "name": "stdout",
     "output_type": "stream",
     "text": [
      "Top 5 Model Configurations:\n",
      "                    Modelo Vectorizador  Núm. Características  \\\n",
      "10     Logistic Regression       TF-IDF                  1000   \n",
      "26     Random Forest (200)           TF                  1000   \n",
      "12  Naive Bayes Classifier       TF-IDF                  1000   \n",
      "5      Logistic Regression       TF-IDF                   500   \n",
      "11     Random Forest (200)       TF-IDF                  1000   \n",
      "\n",
      "    Exactitud media  Precisión media  F1-score medio  \\\n",
      "10         0.821422         0.820048        0.819356   \n",
      "26         0.810670         0.813581        0.803900   \n",
      "12         0.809612         0.808255        0.805678   \n",
      "5          0.804767         0.808475        0.805349   \n",
      "11         0.807085         0.807998        0.801419   \n",
      "\n",
      "    Desviación estándar de la exactitud  composite_score  \n",
      "10                             0.004214         0.819547  \n",
      "26                             0.005558         0.808401  \n",
      "12                             0.010759         0.805873  \n",
      "5                              0.005798         0.804894  \n",
      "11                             0.004516         0.804756  \n"
     ]
    },
    {
     "data": {
      "image/png": "[encoded data removed]",
      "text/plain": [
       "<Figure size 1200x600 with 1 Axes>"
      ]
     },
     "metadata": {},
     "output_type": "display_data"
    }
   ],
   "source": [
    "# Calculate a composite score combining all metrics\n",
    "results_df['composite_score'] = (\n",
    "    results_df['Exactitud media'] * 0.3 +\n",
    "    results_df['Precisión media'] * 0.3 +\n",
    "    results_df['F1-score medio'] * 0.3 +\n",
    "    results_df['Recall medio'] * 0.1 -\n",
    "    results_df['Desviación estándar de la exactitud'] * 0.2  # Penalize high variance\n",
    ")\n",
    "\n",
    "# Sort by composite score and display top models\n",
    "ranked_results = results_df.sort_values(by='composite_score', ascending=False)\n",
    "\n",
    "# Display detailed performance breakdown\n",
    "print(\"Top 5 Model Configurations:\")\n",
    "print(ranked_results[['Modelo', 'Vectorizador', 'Núm. Características', 'Exactitud media', 'Precisión media', 'F1-score medio', 'Desviación estándar de la exactitud', 'composite_score']].head())\n",
    "\n",
    "# Create visualization of top models performance\n",
    "import seaborn as sns\n",
    "import matplotlib.pyplot as plt\n",
    "\n",
    "plt.figure(figsize=(12, 6))\n",
    "sns.barplot(data=ranked_results.head(5), x='Modelo', y='composite_score')\n",
    "plt.xticks(rotation=45)\n",
    "plt.title('Top 5 Models by Composite Score')\n",
    "plt.tight_layout()\n",
    "plt.show()"
   ]
  },
  {
   "cell_type": "code",
   "execution_count": null,
   "metadata": {},
   "outputs": [],
   "source": [
    "# Selección del best_model basado en el top accuracy\n",
    "best_result = results_df.iloc[0]  # Seleccionar la fila con el mejor accuracy\n",
    "best_model_config = {\n",
    "    'Vectorizer': best_result['Vectorizer'],\n",
    "    'n_features': best_result['n_features'],\n",
    "    'Model': best_result['Model'],\n",
    "}\n",
    "\n",
    "# Guardamos el mejor modelo\n",
    "\n",
    "\n",
    "print(f\"\\nMejor configuración encontrada: {best_model_config}\")"
   ]
  },
  {
   "cell_type": "code",
   "execution_count": null,
   "metadata": {},
   "outputs": [],
   "source": [
    "import joblib\n",
    "from preprocess import preprocess_text\n",
    "\n",
    "# Load the vectorizer and model\n",
    "tfidf_vectorizer = joblib.load(\"tfidf_vectorizer.pkl\")\n",
    "model = joblib.load(\"journal_recommendation_model.pkl\")\n",
    "\n",
    "def recommend_journal(title, abstract):\n",
    "    \"\"\"Recommend a journal based on title and abstract.\"\"\"\n",
    "    combined_text = title + \" \" + abstract\n",
    "    combined_text_cleaned = preprocess_text(combined_text)  # Reuse your preprocess_text function\n",
    "    X_input = tfidf_vectorizer.transform([combined_text_cleaned])\n",
    "    return model.predict(X_input)[0]\n",
    "\n",
    "# Example usage\n",
    "title = \"Design, control and evaluation of a treadmill-based Pelvic Exoskeleton (PeXo) with self-paced walking mode\"\n",
    "abstract = \"Most gait rehabilitation exoskeletons focus only on assisting lower limb motions. However, the pelvis plays an essential role in overground ambulation. This calls for the need of gait training devices that allow full control and assistance of user’s pelvis to improve gait rehabilitation therapies of stroke survivors. This paper presents a new pelvic assistance treadmill-based exoskeleton (PeXo) for gait rehabilitation. The system includes a total of 5 actively controlled Degrees of Freedom (DOFs), plus a passive one, in order to provide all DOFs of the human pelvis. The paper describes the mechatronic design and haptic control of PeXo, and introduces a newly developed self-paced walking mode where the user can control walking speed at his/her will. The system was evaluated by means of a pilot study with a stroke survivor. Results showed PeXo can be used safely and reliably during walking activities, allowing for the natural motion of the pelvis with reduced interaction forces. However, the use of the platform reduced user’s Range of Motion at the pelvis and lower limb joints, whereas lower limb’s muscle activity increased to compensate the disturbances introduced by the platform. Nevertheless, the user reported a positive feedback when using the system, suggesting potential and promising advantages of PeXo that should be explored in a larger study in the future.\"\n",
    "print(\"Recommended Journal:\", recommend_journal(title, abstract))\n"
   ]
  }
 ],
 "metadata": {
  "kernelspec": {
   "display_name": ".venv",
   "language": "python",
   "name": "python3"
  },
  "language_info": {
   "codemirror_mode": {
    "name": "ipython",
    "version": 3
   },
   "file_extension": ".py",
   "mimetype": "text/x-python",
   "name": "python",
   "nbconvert_exporter": "python",
   "pygments_lexer": "ipython3",
   "version": "3.13.1"
  }
 },
 "nbformat": 4,
 "nbformat_minor": 2
}
